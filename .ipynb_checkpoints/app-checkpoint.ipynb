{
 "cells": [
  {
   "cell_type": "code",
   "execution_count": 1,
   "metadata": {},
   "outputs": [],
   "source": [
    "import math\n",
    "import pandas as pd\n",
    "import numpy as np"
   ]
  },
  {
   "cell_type": "code",
   "execution_count": 2,
   "metadata": {},
   "outputs": [],
   "source": [
    "from sklearn.preprocessing import MinMaxScaler"
   ]
  },
  {
   "cell_type": "markdown",
   "metadata": {},
   "source": [
    "### UNIFIED DATA CONTAINER"
   ]
  },
  {
   "cell_type": "code",
   "execution_count": 3,
   "metadata": {},
   "outputs": [],
   "source": [
    "data = {\n",
    "    'type-one': {\n",
    "        'raw': '',\n",
    "        'train': [],\n",
    "        'test': []\n",
    "    },\n",
    "    'type-two': {\n",
    "        'raw': '',\n",
    "        'train': [],\n",
    "        'test': []\n",
    "    }\n",
    "}"
   ]
  },
  {
   "cell_type": "markdown",
   "metadata": {},
   "source": [
    "### PROCESS FILE INTO USABLE DATA"
   ]
  },
  {
   "cell_type": "code",
   "execution_count": 4,
   "metadata": {},
   "outputs": [],
   "source": [
    "def process(src):\n",
    "    return pd.read_csv(src, delimiter=',', parse_dates=[[\"Date\", \"Timestamp\"]])"
   ]
  },
  {
   "cell_type": "code",
   "execution_count": 5,
   "metadata": {},
   "outputs": [],
   "source": [
    "raw = process('EURUSD1m.csv')"
   ]
  },
  {
   "cell_type": "code",
   "execution_count": 6,
   "metadata": {},
   "outputs": [
    {
     "data": {
      "text/plain": [
       "(3735014, 6)"
      ]
     },
     "execution_count": 6,
     "metadata": {},
     "output_type": "execute_result"
    }
   ],
   "source": [
    "raw.shape"
   ]
  },
  {
   "cell_type": "code",
   "execution_count": 7,
   "metadata": {},
   "outputs": [
    {
     "data": {
      "text/html": [
       "<div>\n",
       "<style scoped>\n",
       "    .dataframe tbody tr th:only-of-type {\n",
       "        vertical-align: middle;\n",
       "    }\n",
       "\n",
       "    .dataframe tbody tr th {\n",
       "        vertical-align: top;\n",
       "    }\n",
       "\n",
       "    .dataframe thead th {\n",
       "        text-align: right;\n",
       "    }\n",
       "</style>\n",
       "<table border=\"1\" class=\"dataframe\">\n",
       "  <thead>\n",
       "    <tr style=\"text-align: right;\">\n",
       "      <th></th>\n",
       "      <th>Date_Timestamp</th>\n",
       "      <th>Open</th>\n",
       "      <th>High</th>\n",
       "      <th>Low</th>\n",
       "      <th>Close</th>\n",
       "      <th>Volume</th>\n",
       "    </tr>\n",
       "  </thead>\n",
       "  <tbody>\n",
       "    <tr>\n",
       "      <th>0</th>\n",
       "      <td>2010-01-01 11:00:00</td>\n",
       "      <td>1.43327</td>\n",
       "      <td>1.43335</td>\n",
       "      <td>1.43319</td>\n",
       "      <td>1.43335</td>\n",
       "      <td>56.299999</td>\n",
       "    </tr>\n",
       "    <tr>\n",
       "      <th>1</th>\n",
       "      <td>2010-01-01 11:01:00</td>\n",
       "      <td>1.43333</td>\n",
       "      <td>1.43333</td>\n",
       "      <td>1.43318</td>\n",
       "      <td>1.43327</td>\n",
       "      <td>82.100001</td>\n",
       "    </tr>\n",
       "    <tr>\n",
       "      <th>2</th>\n",
       "      <td>2010-01-01 11:02:00</td>\n",
       "      <td>1.43328</td>\n",
       "      <td>1.43333</td>\n",
       "      <td>1.43319</td>\n",
       "      <td>1.43333</td>\n",
       "      <td>86.900000</td>\n",
       "    </tr>\n",
       "    <tr>\n",
       "      <th>3</th>\n",
       "      <td>2010-01-01 11:03:00</td>\n",
       "      <td>1.43325</td>\n",
       "      <td>1.43333</td>\n",
       "      <td>1.43319</td>\n",
       "      <td>1.43326</td>\n",
       "      <td>68.899999</td>\n",
       "    </tr>\n",
       "    <tr>\n",
       "      <th>4</th>\n",
       "      <td>2010-01-01 11:04:00</td>\n",
       "      <td>1.43326</td>\n",
       "      <td>1.43333</td>\n",
       "      <td>1.43319</td>\n",
       "      <td>1.43319</td>\n",
       "      <td>45.300000</td>\n",
       "    </tr>\n",
       "  </tbody>\n",
       "</table>\n",
       "</div>"
      ],
      "text/plain": [
       "       Date_Timestamp     Open     High      Low    Close     Volume\n",
       "0 2010-01-01 11:00:00  1.43327  1.43335  1.43319  1.43335  56.299999\n",
       "1 2010-01-01 11:01:00  1.43333  1.43333  1.43318  1.43327  82.100001\n",
       "2 2010-01-01 11:02:00  1.43328  1.43333  1.43319  1.43333  86.900000\n",
       "3 2010-01-01 11:03:00  1.43325  1.43333  1.43319  1.43326  68.899999\n",
       "4 2010-01-01 11:04:00  1.43326  1.43333  1.43319  1.43319  45.300000"
      ]
     },
     "execution_count": 7,
     "metadata": {},
     "output_type": "execute_result"
    }
   ],
   "source": [
    "raw.head(5)"
   ]
  },
  {
   "cell_type": "markdown",
   "metadata": {},
   "source": [
    "### RESAMBLE DATA BY DAY - DROP NAN"
   ]
  },
  {
   "cell_type": "code",
   "execution_count": 8,
   "metadata": {},
   "outputs": [],
   "source": [
    "resampled = raw.resample('D', on='Date_Timestamp').mean().dropna()"
   ]
  },
  {
   "cell_type": "code",
   "execution_count": 9,
   "metadata": {},
   "outputs": [
    {
     "data": {
      "text/plain": [
       "(3128, 5)"
      ]
     },
     "execution_count": 9,
     "metadata": {},
     "output_type": "execute_result"
    }
   ],
   "source": [
    "resampled.shape"
   ]
  },
  {
   "cell_type": "code",
   "execution_count": 10,
   "metadata": {
    "scrolled": false
   },
   "outputs": [
    {
     "data": {
      "text/html": [
       "<div>\n",
       "<style scoped>\n",
       "    .dataframe tbody tr th:only-of-type {\n",
       "        vertical-align: middle;\n",
       "    }\n",
       "\n",
       "    .dataframe tbody tr th {\n",
       "        vertical-align: top;\n",
       "    }\n",
       "\n",
       "    .dataframe thead th {\n",
       "        text-align: right;\n",
       "    }\n",
       "</style>\n",
       "<table border=\"1\" class=\"dataframe\">\n",
       "  <thead>\n",
       "    <tr style=\"text-align: right;\">\n",
       "      <th></th>\n",
       "      <th>Open</th>\n",
       "      <th>High</th>\n",
       "      <th>Low</th>\n",
       "      <th>Close</th>\n",
       "      <th>Volume</th>\n",
       "    </tr>\n",
       "    <tr>\n",
       "      <th>Date_Timestamp</th>\n",
       "      <th></th>\n",
       "      <th></th>\n",
       "      <th></th>\n",
       "      <th></th>\n",
       "      <th></th>\n",
       "    </tr>\n",
       "  </thead>\n",
       "  <tbody>\n",
       "    <tr>\n",
       "      <th>2010-01-01</th>\n",
       "      <td>1.433194</td>\n",
       "      <td>1.433288</td>\n",
       "      <td>1.433089</td>\n",
       "      <td>1.433178</td>\n",
       "      <td>60.243939</td>\n",
       "    </tr>\n",
       "    <tr>\n",
       "      <th>2010-01-03</th>\n",
       "      <td>1.431891</td>\n",
       "      <td>1.432094</td>\n",
       "      <td>1.431711</td>\n",
       "      <td>1.431913</td>\n",
       "      <td>25.013333</td>\n",
       "    </tr>\n",
       "    <tr>\n",
       "      <th>2010-01-04</th>\n",
       "      <td>1.436431</td>\n",
       "      <td>1.436693</td>\n",
       "      <td>1.436159</td>\n",
       "      <td>1.436451</td>\n",
       "      <td>55.569028</td>\n",
       "    </tr>\n",
       "    <tr>\n",
       "      <th>2010-01-05</th>\n",
       "      <td>1.440870</td>\n",
       "      <td>1.441108</td>\n",
       "      <td>1.440588</td>\n",
       "      <td>1.440881</td>\n",
       "      <td>55.477153</td>\n",
       "    </tr>\n",
       "    <tr>\n",
       "      <th>2010-01-06</th>\n",
       "      <td>1.436875</td>\n",
       "      <td>1.437116</td>\n",
       "      <td>1.436592</td>\n",
       "      <td>1.436898</td>\n",
       "      <td>56.230417</td>\n",
       "    </tr>\n",
       "  </tbody>\n",
       "</table>\n",
       "</div>"
      ],
      "text/plain": [
       "                    Open      High       Low     Close     Volume\n",
       "Date_Timestamp                                                   \n",
       "2010-01-01      1.433194  1.433288  1.433089  1.433178  60.243939\n",
       "2010-01-03      1.431891  1.432094  1.431711  1.431913  25.013333\n",
       "2010-01-04      1.436431  1.436693  1.436159  1.436451  55.569028\n",
       "2010-01-05      1.440870  1.441108  1.440588  1.440881  55.477153\n",
       "2010-01-06      1.436875  1.437116  1.436592  1.436898  56.230417"
      ]
     },
     "execution_count": 10,
     "metadata": {},
     "output_type": "execute_result"
    }
   ],
   "source": [
    "resampled.head(5)"
   ]
  },
  {
   "cell_type": "markdown",
   "metadata": {},
   "source": [
    "### ADD LABEL FOR MODEL TRAINING - DROP NAN"
   ]
  },
  {
   "cell_type": "code",
   "execution_count": 11,
   "metadata": {},
   "outputs": [],
   "source": [
    "resampled['Label'] = resampled['Close'].shift(1)"
   ]
  },
  {
   "cell_type": "code",
   "execution_count": 12,
   "metadata": {},
   "outputs": [],
   "source": [
    "resampled = resampled.dropna()"
   ]
  },
  {
   "cell_type": "code",
   "execution_count": 13,
   "metadata": {},
   "outputs": [
    {
     "data": {
      "text/html": [
       "<div>\n",
       "<style scoped>\n",
       "    .dataframe tbody tr th:only-of-type {\n",
       "        vertical-align: middle;\n",
       "    }\n",
       "\n",
       "    .dataframe tbody tr th {\n",
       "        vertical-align: top;\n",
       "    }\n",
       "\n",
       "    .dataframe thead th {\n",
       "        text-align: right;\n",
       "    }\n",
       "</style>\n",
       "<table border=\"1\" class=\"dataframe\">\n",
       "  <thead>\n",
       "    <tr style=\"text-align: right;\">\n",
       "      <th></th>\n",
       "      <th>Open</th>\n",
       "      <th>High</th>\n",
       "      <th>Low</th>\n",
       "      <th>Close</th>\n",
       "      <th>Volume</th>\n",
       "      <th>Label</th>\n",
       "    </tr>\n",
       "    <tr>\n",
       "      <th>Date_Timestamp</th>\n",
       "      <th></th>\n",
       "      <th></th>\n",
       "      <th></th>\n",
       "      <th></th>\n",
       "      <th></th>\n",
       "      <th></th>\n",
       "    </tr>\n",
       "  </thead>\n",
       "  <tbody>\n",
       "    <tr>\n",
       "      <th>2010-01-03</th>\n",
       "      <td>1.431891</td>\n",
       "      <td>1.432094</td>\n",
       "      <td>1.431711</td>\n",
       "      <td>1.431913</td>\n",
       "      <td>25.013333</td>\n",
       "      <td>1.433178</td>\n",
       "    </tr>\n",
       "    <tr>\n",
       "      <th>2010-01-04</th>\n",
       "      <td>1.436431</td>\n",
       "      <td>1.436693</td>\n",
       "      <td>1.436159</td>\n",
       "      <td>1.436451</td>\n",
       "      <td>55.569028</td>\n",
       "      <td>1.431913</td>\n",
       "    </tr>\n",
       "    <tr>\n",
       "      <th>2010-01-05</th>\n",
       "      <td>1.440870</td>\n",
       "      <td>1.441108</td>\n",
       "      <td>1.440588</td>\n",
       "      <td>1.440881</td>\n",
       "      <td>55.477153</td>\n",
       "      <td>1.436451</td>\n",
       "    </tr>\n",
       "    <tr>\n",
       "      <th>2010-01-06</th>\n",
       "      <td>1.436875</td>\n",
       "      <td>1.437116</td>\n",
       "      <td>1.436592</td>\n",
       "      <td>1.436898</td>\n",
       "      <td>56.230417</td>\n",
       "      <td>1.440881</td>\n",
       "    </tr>\n",
       "    <tr>\n",
       "      <th>2010-01-07</th>\n",
       "      <td>1.435212</td>\n",
       "      <td>1.435446</td>\n",
       "      <td>1.434926</td>\n",
       "      <td>1.435225</td>\n",
       "      <td>56.116320</td>\n",
       "      <td>1.436898</td>\n",
       "    </tr>\n",
       "  </tbody>\n",
       "</table>\n",
       "</div>"
      ],
      "text/plain": [
       "                    Open      High       Low     Close     Volume     Label\n",
       "Date_Timestamp                                                             \n",
       "2010-01-03      1.431891  1.432094  1.431711  1.431913  25.013333  1.433178\n",
       "2010-01-04      1.436431  1.436693  1.436159  1.436451  55.569028  1.431913\n",
       "2010-01-05      1.440870  1.441108  1.440588  1.440881  55.477153  1.436451\n",
       "2010-01-06      1.436875  1.437116  1.436592  1.436898  56.230417  1.440881\n",
       "2010-01-07      1.435212  1.435446  1.434926  1.435225  56.116320  1.436898"
      ]
     },
     "execution_count": 13,
     "metadata": {},
     "output_type": "execute_result"
    }
   ],
   "source": [
    "resampled.head(5)"
   ]
  },
  {
   "cell_type": "markdown",
   "metadata": {},
   "source": [
    "### CLONE RESAMPLED DATA & ADD TYPE-1 FEATURES"
   ]
  },
  {
   "cell_type": "code",
   "execution_count": 14,
   "metadata": {},
   "outputs": [],
   "source": [
    "temp_one = resampled.copy()"
   ]
  },
  {
   "cell_type": "code",
   "execution_count": 15,
   "metadata": {},
   "outputs": [],
   "source": [
    "def stochastic_k(dataframe, timeframe):\n",
    "    return ((dataframe['Close'] - dataframe['Low'].rolling(timeframe).min()) / (dataframe['High'].rolling(timeframe).max() - dataframe['Low'].rolling(timeframe).min())) * 100"
   ]
  },
  {
   "cell_type": "code",
   "execution_count": 16,
   "metadata": {},
   "outputs": [],
   "source": [
    "def stochastic_d(dataframe, timeframe):\n",
    "    return dataframe['SK'].rolling(timeframe).mean()"
   ]
  },
  {
   "cell_type": "markdown",
   "metadata": {},
   "source": [
    "#### ADD STOCHASTIC FEATURES AS COLUMNS"
   ]
  },
  {
   "cell_type": "code",
   "execution_count": 17,
   "metadata": {},
   "outputs": [],
   "source": [
    "temp_one['SK'] = stochastic_k(temp_one, 14)"
   ]
  },
  {
   "cell_type": "code",
   "execution_count": 18,
   "metadata": {},
   "outputs": [],
   "source": [
    "temp_one['SD'] = stochastic_d(temp_one, 14)"
   ]
  },
  {
   "cell_type": "markdown",
   "metadata": {},
   "source": [
    "#### DROP NAN ROWS & IRRELEVANT COLUMNS"
   ]
  },
  {
   "cell_type": "code",
   "execution_count": 19,
   "metadata": {
    "scrolled": false
   },
   "outputs": [],
   "source": [
    "type_one = temp_one.dropna().filter(['SK', 'SD', 'Label'])"
   ]
  },
  {
   "cell_type": "code",
   "execution_count": 20,
   "metadata": {},
   "outputs": [
    {
     "data": {
      "text/html": [
       "<div>\n",
       "<style scoped>\n",
       "    .dataframe tbody tr th:only-of-type {\n",
       "        vertical-align: middle;\n",
       "    }\n",
       "\n",
       "    .dataframe tbody tr th {\n",
       "        vertical-align: top;\n",
       "    }\n",
       "\n",
       "    .dataframe thead th {\n",
       "        text-align: right;\n",
       "    }\n",
       "</style>\n",
       "<table border=\"1\" class=\"dataframe\">\n",
       "  <thead>\n",
       "    <tr style=\"text-align: right;\">\n",
       "      <th></th>\n",
       "      <th>SK</th>\n",
       "      <th>SD</th>\n",
       "      <th>Label</th>\n",
       "    </tr>\n",
       "    <tr>\n",
       "      <th>Date_Timestamp</th>\n",
       "      <th></th>\n",
       "      <th></th>\n",
       "      <th></th>\n",
       "    </tr>\n",
       "  </thead>\n",
       "  <tbody>\n",
       "    <tr>\n",
       "      <th>2010-02-02</th>\n",
       "      <td>14.752107</td>\n",
       "      <td>7.405580</td>\n",
       "      <td>1.389926</td>\n",
       "    </tr>\n",
       "    <tr>\n",
       "      <th>2010-02-03</th>\n",
       "      <td>18.040997</td>\n",
       "      <td>6.551441</td>\n",
       "      <td>1.393863</td>\n",
       "    </tr>\n",
       "    <tr>\n",
       "      <th>2010-02-04</th>\n",
       "      <td>0.837431</td>\n",
       "      <td>6.495203</td>\n",
       "      <td>1.394784</td>\n",
       "    </tr>\n",
       "    <tr>\n",
       "      <th>2010-02-05</th>\n",
       "      <td>0.713646</td>\n",
       "      <td>6.483462</td>\n",
       "      <td>1.382056</td>\n",
       "    </tr>\n",
       "    <tr>\n",
       "      <th>2010-02-07</th>\n",
       "      <td>0.486169</td>\n",
       "      <td>6.463243</td>\n",
       "      <td>1.368054</td>\n",
       "    </tr>\n",
       "  </tbody>\n",
       "</table>\n",
       "</div>"
      ],
      "text/plain": [
       "                       SK        SD     Label\n",
       "Date_Timestamp                               \n",
       "2010-02-02      14.752107  7.405580  1.389926\n",
       "2010-02-03      18.040997  6.551441  1.393863\n",
       "2010-02-04       0.837431  6.495203  1.394784\n",
       "2010-02-05       0.713646  6.483462  1.382056\n",
       "2010-02-07       0.486169  6.463243  1.368054"
      ]
     },
     "execution_count": 20,
     "metadata": {},
     "output_type": "execute_result"
    }
   ],
   "source": [
    "type_one.head(5)"
   ]
  },
  {
   "cell_type": "markdown",
   "metadata": {},
   "source": [
    "### NORMALIZE VALUES"
   ]
  },
  {
   "cell_type": "code",
   "execution_count": 21,
   "metadata": {},
   "outputs": [],
   "source": [
    "def normalize(dataframe):\n",
    "\n",
    "    # INTANTIATE THE SCALER OBJECT & SET MINMAX VALUES\n",
    "    scaler = MinMaxScaler(feature_range=(0, 1))\n",
    "    \n",
    "    # FIT & NORMALIZE VALUES FOR EACH COLUMN\n",
    "    for column in dataframe.columns:\n",
    "        dataframe[column] = scaler.fit_transform(dataframe[column].values.reshape(-1, 1))\n",
    "    \n",
    "    return dataframe"
   ]
  },
  {
   "cell_type": "markdown",
   "metadata": {},
   "source": [
    "#### SET IN DATA OBJECT"
   ]
  },
  {
   "cell_type": "code",
   "execution_count": 22,
   "metadata": {},
   "outputs": [],
   "source": [
    "data['type-one']['raw'] = normalize(type_one)"
   ]
  },
  {
   "cell_type": "code",
   "execution_count": 23,
   "metadata": {},
   "outputs": [
    {
     "data": {
      "text/html": [
       "<div>\n",
       "<style scoped>\n",
       "    .dataframe tbody tr th:only-of-type {\n",
       "        vertical-align: middle;\n",
       "    }\n",
       "\n",
       "    .dataframe tbody tr th {\n",
       "        vertical-align: top;\n",
       "    }\n",
       "\n",
       "    .dataframe thead th {\n",
       "        text-align: right;\n",
       "    }\n",
       "</style>\n",
       "<table border=\"1\" class=\"dataframe\">\n",
       "  <thead>\n",
       "    <tr style=\"text-align: right;\">\n",
       "      <th></th>\n",
       "      <th>SK</th>\n",
       "      <th>SD</th>\n",
       "      <th>Label</th>\n",
       "    </tr>\n",
       "    <tr>\n",
       "      <th>Date_Timestamp</th>\n",
       "      <th></th>\n",
       "      <th></th>\n",
       "      <th></th>\n",
       "    </tr>\n",
       "  </thead>\n",
       "  <tbody>\n",
       "    <tr>\n",
       "      <th>2010-02-02</th>\n",
       "      <td>0.147037</td>\n",
       "      <td>0.066460</td>\n",
       "      <td>0.788176</td>\n",
       "    </tr>\n",
       "    <tr>\n",
       "      <th>2010-02-03</th>\n",
       "      <td>0.179976</td>\n",
       "      <td>0.057720</td>\n",
       "      <td>0.797017</td>\n",
       "    </tr>\n",
       "    <tr>\n",
       "      <th>2010-02-04</th>\n",
       "      <td>0.007675</td>\n",
       "      <td>0.057145</td>\n",
       "      <td>0.799086</td>\n",
       "    </tr>\n",
       "    <tr>\n",
       "      <th>2010-02-05</th>\n",
       "      <td>0.006435</td>\n",
       "      <td>0.057025</td>\n",
       "      <td>0.770506</td>\n",
       "    </tr>\n",
       "    <tr>\n",
       "      <th>2010-02-07</th>\n",
       "      <td>0.004157</td>\n",
       "      <td>0.056818</td>\n",
       "      <td>0.739063</td>\n",
       "    </tr>\n",
       "  </tbody>\n",
       "</table>\n",
       "</div>"
      ],
      "text/plain": [
       "                      SK        SD     Label\n",
       "Date_Timestamp                              \n",
       "2010-02-02      0.147037  0.066460  0.788176\n",
       "2010-02-03      0.179976  0.057720  0.797017\n",
       "2010-02-04      0.007675  0.057145  0.799086\n",
       "2010-02-05      0.006435  0.057025  0.770506\n",
       "2010-02-07      0.004157  0.056818  0.739063"
      ]
     },
     "execution_count": 23,
     "metadata": {},
     "output_type": "execute_result"
    }
   ],
   "source": [
    "data['type-one']['raw'].head(5)"
   ]
  },
  {
   "cell_type": "markdown",
   "metadata": {},
   "source": [
    "### CREATE TRAIN & TEST DATA"
   ]
  },
  {
   "cell_type": "code",
   "execution_count": 34,
   "metadata": {},
   "outputs": [],
   "source": [
    "def split(dataframe, percent):\n",
    "    \n",
    "    # CONVERT DF TO NUMPY ARRAY\n",
    "    target = dataframe.to_numpy()\n",
    "    \n",
    "    # CONTAINERS\n",
    "    features = []\n",
    "    labels = []\n",
    "    \n",
    "    # LOOP THROUGH\n",
    "    for row in data:\n",
    "        features.append([row[0], row[1]])\n",
    "        labels.append(row[2])\n",
    "        \n",
    "    # INDEX TO SPLIT AT\n",
    "    limit = math.ceil(len(features) * percent)\n",
    "        \n",
    "    return {\n",
    "        'train': {\n",
    "            'features': features[:limit],\n",
    "            'labels': labels[:limit]\n",
    "        },\n",
    "        'test': {\n",
    "            'features': features[limit:],\n",
    "            'labels': labels[limit:]\n",
    "        }\n",
    "    }"
   ]
  },
  {
   "cell_type": "markdown",
   "metadata": {},
   "source": [
    "#### SPLIT INTO TRAIN & TEST DATA"
   ]
  },
  {
   "cell_type": "code",
   "execution_count": 32,
   "metadata": {},
   "outputs": [],
   "source": [
    "dataset = split(data['type-one']['raw'], 0.8)"
   ]
  },
  {
   "cell_type": "markdown",
   "metadata": {},
   "source": [
    "#### SET IN DATA OBJECT"
   ]
  },
  {
   "cell_type": "code",
   "execution_count": 33,
   "metadata": {},
   "outputs": [],
   "source": [
    "data['type-one']['train'] = dataset['train']\n",
    "data['type-one']['test'] = dataset['test']"
   ]
  },
  {
   "cell_type": "code",
   "execution_count": null,
   "metadata": {},
   "outputs": [],
   "source": []
  },
  {
   "cell_type": "code",
   "execution_count": null,
   "metadata": {},
   "outputs": [],
   "source": []
  }
 ],
 "metadata": {
  "kernelspec": {
   "display_name": "Python 3",
   "language": "python",
   "name": "python3"
  },
  "language_info": {
   "codemirror_mode": {
    "name": "ipython",
    "version": 3
   },
   "file_extension": ".py",
   "mimetype": "text/x-python",
   "name": "python",
   "nbconvert_exporter": "python",
   "pygments_lexer": "ipython3",
   "version": "3.7.6"
  }
 },
 "nbformat": 4,
 "nbformat_minor": 2
}
